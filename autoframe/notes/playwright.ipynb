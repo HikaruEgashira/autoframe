{
 "cells": [
  {
   "cell_type": "markdown",
   "metadata": {},
   "source": [
    "# PlayWright Browser\n",
    "\n",
    "This toolkit is used to interact with the browser. While other tools (like the `Requests` tools) are fine for static sites, `PlayWright Browser` toolkits let your agent navigate the web and interact with dynamically rendered sites. \n",
    "\n",
    "Some tools bundled within the `PlayWright Browser` toolkit include:\n",
    "\n",
    "- `NavigateTool` (navigate_browser) - navigate to a URL\n",
    "- `NavigateBackTool` (previous_page) - wait for an element to appear\n",
    "- `ClickTool` (click_element) - click on an element (specified by selector)\n",
    "- `ExtractTextTool` (extract_text) - use beautiful soup to extract text from the current web page\n",
    "- `ExtractHyperlinksTool` (extract_hyperlinks) - use beautiful soup to extract hyperlinks from the current web page\n",
    "- `GetElementsTool` (get_elements) - select elements by CSS selector\n",
    "- `CurrentPageTool` (current_page) - get the current page URL\n"
   ]
  },
  {
   "cell_type": "code",
   "execution_count": null,
   "metadata": {
    "tags": []
   },
   "outputs": [],
   "source": [
    "#!playwright install\n",
    "#!playwright install-deps\n",
    "#! apt-get install libatk1.0-0 \\\n",
    "#!         libatk-bridge2.0-0 \\\n",
    "#!         libcups2 \\\n",
    "#!         libxkbcommon0 \\\n",
    "#!         libatspi2.0-0 \\\n",
    "#!         libxcomposite1 \\\n",
    "#!         libxdamage1 \\\n",
    "#!         libxrandr2 \\\n",
    "#!         libpango-1.0-0 \\\n",
    "#!         libcairo2 \\\n",
    "#!         libasound2"
   ]
  },
  {
   "cell_type": "code",
   "execution_count": 3,
   "metadata": {
    "tags": []
   },
   "outputs": [],
   "source": [
    "from langchain_community.agent_toolkits import PlayWrightBrowserToolkit"
   ]
  },
  {
   "cell_type": "markdown",
   "metadata": {},
   "source": [
    "Async function to create context and launch browser:"
   ]
  },
  {
   "cell_type": "code",
   "execution_count": 4,
   "metadata": {},
   "outputs": [],
   "source": [
    "from langchain_community.tools.playwright.utils import (\n",
    "    create_async_playwright_browser,  # A synchronous browser is available, though it isn't compatible with jupyter.\\n\",\t  },\n",
    ")"
   ]
  },
  {
   "cell_type": "code",
   "execution_count": 5,
   "metadata": {
    "tags": []
   },
   "outputs": [],
   "source": [
    "# This import is required only for jupyter notebooks, since they have their own eventloop\n",
    "import nest_asyncio\n",
    "\n",
    "nest_asyncio.apply()"
   ]
  },
  {
   "cell_type": "markdown",
   "metadata": {},
   "source": [
    "## Instantiating a Browser Toolkit\n",
    "\n",
    "It's always recommended to instantiate using the `from_browser` method so that the "
   ]
  },
  {
   "cell_type": "code",
   "execution_count": 6,
   "metadata": {
    "tags": []
   },
   "outputs": [
    {
     "data": {
      "text/plain": [
       "[ClickTool(async_browser=<Browser type=<BrowserType name=chromium executable_path=/root/.cache/ms-playwright/chromium-1091/chrome-linux/chrome> version=120.0.6099.28>),\n",
       " NavigateTool(async_browser=<Browser type=<BrowserType name=chromium executable_path=/root/.cache/ms-playwright/chromium-1091/chrome-linux/chrome> version=120.0.6099.28>),\n",
       " NavigateBackTool(async_browser=<Browser type=<BrowserType name=chromium executable_path=/root/.cache/ms-playwright/chromium-1091/chrome-linux/chrome> version=120.0.6099.28>),\n",
       " ExtractTextTool(async_browser=<Browser type=<BrowserType name=chromium executable_path=/root/.cache/ms-playwright/chromium-1091/chrome-linux/chrome> version=120.0.6099.28>),\n",
       " ExtractHyperlinksTool(async_browser=<Browser type=<BrowserType name=chromium executable_path=/root/.cache/ms-playwright/chromium-1091/chrome-linux/chrome> version=120.0.6099.28>),\n",
       " GetElementsTool(async_browser=<Browser type=<BrowserType name=chromium executable_path=/root/.cache/ms-playwright/chromium-1091/chrome-linux/chrome> version=120.0.6099.28>),\n",
       " CurrentWebPageTool(async_browser=<Browser type=<BrowserType name=chromium executable_path=/root/.cache/ms-playwright/chromium-1091/chrome-linux/chrome> version=120.0.6099.28>)]"
      ]
     },
     "execution_count": 6,
     "metadata": {},
     "output_type": "execute_result"
    }
   ],
   "source": [
    "async_browser = create_async_playwright_browser()\n",
    "toolkit = PlayWrightBrowserToolkit.from_browser(async_browser=async_browser)\n",
    "tools = toolkit.get_tools()\n",
    "tools"
   ]
  },
  {
   "cell_type": "code",
   "execution_count": 7,
   "metadata": {
    "tags": []
   },
   "outputs": [],
   "source": [
    "tools_by_name = {tool.name: tool for tool in tools}\n",
    "navigate_tool = tools_by_name[\"navigate_browser\"]\n",
    "get_elements_tool = tools_by_name[\"get_elements\"]"
   ]
  },
  {
   "cell_type": "code",
   "execution_count": 11,
   "metadata": {
    "tags": []
   },
   "outputs": [
    {
     "data": {
      "text/plain": [
       "'Navigating to https://web.archive.org/web/20230428131116/https://www.cnn.com/world returned status code 200'"
      ]
     },
     "execution_count": 11,
     "metadata": {},
     "output_type": "execute_result"
    }
   ],
   "source": [
    "await navigate_tool.arun(\n",
    "    {\"url\": \"https://web.archive.org/web/20230428131116/https://www.cnn.com/world\"}\n",
    ")"
   ]
  },
  {
   "cell_type": "code",
   "execution_count": 12,
   "metadata": {
    "tags": []
   },
   "outputs": [
    {
     "data": {
      "text/plain": [
       "'[{\"innerText\": \"These Ukrainian veterinarians are risking their lives to care for dogs and cats in the war zone\"}, {\"innerText\": \"Life in the ocean’s ‘twilight zone’ could disappear due to the climate crisis\"}, {\"innerText\": \"Clashes renew in West Darfur as food and water shortages worsen in Sudan violence\"}, {\"innerText\": \"Thai policeman’s wife investigated over alleged murder and a dozen other poison cases\"}, {\"innerText\": \"American teacher escaped Sudan on French evacuation plane, with no help offered back home\"}, {\"innerText\": \"Dubai’s emerging hip-hop scene is finding its voice\"}, {\"innerText\": \"How an underwater film inspired a marine protected area off Kenya’s coast\"}, {\"innerText\": \"The Iranian drones deployed by Russia in Ukraine are powered by stolen Western technology, research reveals\"}, {\"innerText\": \"India says border violations erode ‘entire basis’ of ties with China\"}, {\"innerText\": \"Australian police sift through 3,000 tons of trash for missing woman’s remains\"}, {\"innerText\": \"As US and Philippine defense ties grow, China warns over Taiwan tensions\"}, {\"innerText\": \"Don McLean offers duet with South Korean president who sang ‘American Pie’ to Biden\"}, {\"innerText\": \"Almost two-thirds of elephant habitat lost across Asia, study finds\"}, {\"innerText\": \"‘We don’t sleep … I would call it fainting’: Working as a doctor in Sudan’s crisis\"}, {\"innerText\": \"Kenya arrests second pastor to face criminal charges ‘related to mass killing of his followers’\"}, {\"innerText\": \"Russia launches deadly wave of strikes across Ukraine\"}, {\"innerText\": \"Woman forced to leave her forever home or ‘walk to your death’ she says\"}, {\"innerText\": \"U.S. House Speaker Kevin McCarthy weighs in on Disney-DeSantis feud\"}, {\"innerText\": \"Two sides agree to extend Sudan ceasefire\"}, {\"innerText\": \"Spanish Leopard 2 tanks are on their way to Ukraine, defense minister confirms\"}, {\"innerText\": \"Flambéed pizza thought to have sparked deadly Madrid restaurant fire\"}, {\"innerText\": \"Another bomb found in Belgorod just days after Russia accidentally struck the city\"}, {\"innerText\": \"A Black teen’s murder sparked a crisis over racism in British policing. Thirty years on, little has changed\"}, {\"innerText\": \"Belgium destroys shipment of American beer after taking issue with ‘Champagne of Beer’ slogan\"}, {\"innerText\": \"UK Prime Minister Rishi Sunak rocked by resignation of top ally Raab over bullying allegations\"}, {\"innerText\": \"Iran’s Navy seizes Marshall Islands-flagged ship\"}, {\"innerText\": \"A divided Israel stands at a perilous crossroads on its 75th birthday\"}, {\"innerText\": \"Palestinian reporter breaks barriers by reporting in Hebrew on Israeli TV\"}, {\"innerText\": \"One-fifth of water pollution comes from textile dyes. But a shellfish-inspired solution could clean it up\"}, {\"innerText\": \"‘People sacrificed their lives for just\\xa010 dollars’: At least 78 killed in Yemen crowd surge\"}, {\"innerText\": \"Israeli police say two men shot near Jewish tomb in Jerusalem in suspected ‘terror attack’\"}, {\"innerText\": \"King Charles III’s coronation: Who’s performing at the ceremony\"}, {\"innerText\": \"The week in 33 photos\"}, {\"innerText\": \"Hong Kong’s endangered turtles\"}, {\"innerText\": \"In pictures: Britain’s Queen Camilla\"}, {\"innerText\": \"Catastrophic drought that’s pushed millions into crisis made 100 times more likely by climate change, analysis finds\"}, {\"innerText\": \"For years, a UK mining giant was untouchable in Zambia for pollution until a former miner’s son took them on\"}, {\"innerText\": \"Former Sudanese minister Ahmed Haroun wanted on war crimes charges freed from Khartoum prison\"}, {\"innerText\": \"WHO warns of ‘biological risk’ after Sudan fighters seize lab, as violence mars US-brokered ceasefire\"}, {\"innerText\": \"How Colombia’s Petro, a former leftwing guerrilla, found his opening in Washington\"}, {\"innerText\": \"Bolsonaro accidentally created Facebook post questioning Brazil election results, say his attorneys\"}, {\"innerText\": \"Crowd kills over a dozen suspected gang members in Haiti\"}, {\"innerText\": \"Thousands of tequila bottles containing liquid meth seized\"}, {\"innerText\": \"Why send a US stealth submarine to South Korea – and tell the world about it?\"}, {\"innerText\": \"Fukushima’s fishing industry survived a nuclear disaster. 12 years on, it fears Tokyo’s next move may finish it off\"}, {\"innerText\": \"Singapore executes man for trafficking two pounds of cannabis\"}, {\"innerText\": \"Conservative Thai party looks to woo voters with promise to legalize sex toys\"}, {\"innerText\": \"Inside the Italian village being repopulated by Americans\"}, {\"innerText\": \"Strikes, soaring airfares and yo-yoing hotel fees: A traveler’s guide to the coronation\"}, {\"innerText\": \"A year in Azerbaijan: From spring’s Grand Prix to winter ski adventures\"}, {\"innerText\": \"The bicycle mayor peddling a two-wheeled revolution in Cape Town\"}, {\"innerText\": \"Tokyo ramen shop bans customers from using their phones while eating\"}, {\"innerText\": \"South African opera star will perform at coronation of King Charles III\"}, {\"innerText\": \"Luxury loot under the hammer: France auctions goods seized from drug dealers\"}, {\"innerText\": \"Judy Blume’s books were formative for generations of readers. Here’s why they endure\"}, {\"innerText\": \"Craft, salvage and sustainability take center stage at Milan Design Week\"}, {\"innerText\": \"Life-sized chocolate King Charles III sculpture unveiled to celebrate coronation\"}, {\"innerText\": \"Severe storms to strike the South again as millions in Texas could see damaging winds and hail\"}, {\"innerText\": \"The South is in the crosshairs of severe weather again, as the multi-day threat of large hail and tornadoes continues\"}, {\"innerText\": \"Spring snowmelt has cities along the Mississippi bracing for flooding in homes and businesses\"}, {\"innerText\": \"Know the difference between a tornado watch, a tornado warning and a tornado emergency\"}, {\"innerText\": \"Reporter spotted familiar face covering Sudan evacuation. See what happened next\"}, {\"innerText\": \"This country will soon become the world’s most populated\"}, {\"innerText\": \"April 27, 2023 - Russia-Ukraine news\"}, {\"innerText\": \"‘Often they shoot at each other’: Ukrainian drone operator details chaos in Russian ranks\"}, {\"innerText\": \"Hear from family members of Americans stuck in Sudan frustrated with US response\"}, {\"innerText\": \"U.S. talk show host Jerry Springer dies at 79\"}, {\"innerText\": \"Bureaucracy stalling at least one family’s evacuation from Sudan\"}, {\"innerText\": \"Girl to get life-saving treatment for rare immune disease\"}, {\"innerText\": \"Haiti’s crime rate more than doubles in a year\"}, {\"innerText\": \"Ocean census aims to discover 100,000 previously unknown marine species\"}, {\"innerText\": \"Wall Street Journal editor discusses reporter’s arrest in Moscow\"}, {\"innerText\": \"Can Tunisia’s democracy be saved?\"}, {\"innerText\": \"Yasmeen Lari, ‘starchitect’ turned social engineer, wins one of architecture’s most coveted prizes\"}, {\"innerText\": \"A massive, newly restored Frank Lloyd Wright mansion is up for sale\"}, {\"innerText\": \"Are these the most sustainable architectural projects in the world?\"}, {\"innerText\": \"Step inside a $72 million London townhouse in a converted army barracks\"}, {\"innerText\": \"A 3D-printing company is preparing to build on the lunar surface. But first, a moonshot at home\"}, {\"innerText\": \"Simona Halep says ‘the stress is huge’ as she battles to return to tennis following positive drug test\"}, {\"innerText\": \"Barcelona reaches third straight Women’s Champions League final with draw against Chelsea\"}, {\"innerText\": \"Wrexham: An intoxicating tale of Hollywood glamor and sporting romance\"}, {\"innerText\": \"Shohei Ohtani comes within inches of making yet more MLB history in Angels win\"}, {\"innerText\": \"This CNN Hero is recruiting recreational divers to help rebuild reefs in Florida one coral at a time\"}, {\"innerText\": \"This CNN Hero offers judgment-free veterinary care for the pets of those experiencing homelessness\"}, {\"innerText\": \"Don’t give up on milestones: A CNN Hero’s message for Autism Awareness Month\"}, {\"innerText\": \"CNN Hero of the Year Nelly Cheboi returned to Kenya with plans to lift more students out of poverty\"}]'"
      ]
     },
     "execution_count": 12,
     "metadata": {},
     "output_type": "execute_result"
    }
   ],
   "source": [
    "# The browser is shared across tools, so the agent can interact in a stateful manner\n",
    "await get_elements_tool.arun(\n",
    "    {\"selector\": \".container__headline\", \"attributes\": [\"innerText\"]}\n",
    ")"
   ]
  },
  {
   "cell_type": "code",
   "execution_count": 13,
   "metadata": {
    "tags": []
   },
   "outputs": [
    {
     "data": {
      "text/plain": [
       "'https://web.archive.org/web/20230428133211/https://cnn.com/world'"
      ]
     },
     "execution_count": 13,
     "metadata": {},
     "output_type": "execute_result"
    }
   ],
   "source": [
    "# If the agent wants to remember the current webpage, it can use the `current_webpage` tool\n",
    "await tools_by_name[\"current_webpage\"].arun({})"
   ]
  },
  {
   "cell_type": "markdown",
   "metadata": {},
   "source": [
    "## エージェント内での使用\n",
    "\n",
    "ブラウザツールのいくつかは「StructuredTool」であり、複数の引数を期待するため、これらは「STRUCTURED_CHAT_ZERO_SHOT_REACT_DESCRIPTION」より古いエージェントとは互換性がありません。"
   ]
  },
  {
   "cell_type": "code",
   "execution_count": 14,
   "metadata": {
    "tags": []
   },
   "outputs": [],
   "source": [
    "from langchain.agents import AgentType, initialize_agent\n",
    "from langchain.chat_models import ChatOpenAI\n",
    "\n",
    "llm = ChatOpenAI(temperature=0)  # or any other LLM, e.g., ChatOpenAI(), OpenAI()\n",
    "\n",
    "agent_chain = initialize_agent(\n",
    "    tools,\n",
    "    llm,\n",
    "    agent=AgentType.STRUCTURED_CHAT_ZERO_SHOT_REACT_DESCRIPTION,\n",
    "    verbose=True,\n",
    ")"
   ]
  },
  {
   "cell_type": "code",
   "execution_count": 19,
   "metadata": {
    "tags": []
   },
   "outputs": [
    {
     "name": "stdout",
     "output_type": "stream",
     "text": [
      "\n",
      "\n",
      "\u001b[1m> Entering new AgentExecutor chain...\u001b[0m\n",
      "\u001b[32;1m\u001b[1;3mAction:\n",
      "```\n",
      "{\n",
      "  \"action\": \"get_elements\",\n",
      "  \"action_input\": {\n",
      "    \"selector\": \"h1, h2, h3, h4, h5, h6\",\n",
      "    \"attributes\": [\"innerText\"]\n",
      "  }\n",
      "}\n",
      "```\u001b[0m\n",
      "Observation: \u001b[33;1m\u001b[1;3m[{\"innerText\": \"CNN values your feedback\"}, {\"innerText\": \"World\"}, {\"innerText\": \"Video\"}, {\"innerText\": \"Around the world\"}, {\"innerText\": \"EUROPE\"}, {\"innerText\": \"MIDDLE EAST \"}, {\"innerText\": \"WORLD IN PHOTOS\"}, {\"innerText\": \"AFRICA \"}, {\"innerText\": \"AMERICAS \"}, {\"innerText\": \"ASIA \"}, {\"innerText\": \"Featured\"}, {\"innerText\": \"TRAVEL \"}, {\"innerText\": \"STYLE \"}, {\"innerText\": \"WEATHER \"}, {\"innerText\": \"More of the latest stories\"}, {\"innerText\": \"Something Extra\"}, {\"innerText\": \"ARCHITECTURE AROUND THE WORLD \"}, {\"innerText\": \"SPORTS \"}, {\"innerText\": \"CNN HEROES \"}, {\"innerText\": \"Paid Partner Content\"}, {\"innerText\": \"Privacy Policy\"}, {\"innerText\": \"Cookie List\"}]\u001b[0m\n",
      "Thought:\u001b[32;1m\u001b[1;3mThe headers on the current page are:\n",
      "\n",
      "- CNN values your feedback\n",
      "- World\n",
      "- Video\n",
      "- Around the world\n",
      "- EUROPE\n",
      "- MIDDLE EAST\n",
      "- WORLD IN PHOTOS\n",
      "- AFRICA\n",
      "- AMERICAS\n",
      "- ASIA\n",
      "- Featured\n",
      "- TRAVEL\n",
      "- STYLE\n",
      "- WEATHER\n",
      "- More of the latest stories\n",
      "- Something Extra\n",
      "- ARCHITECTURE AROUND THE WORLD\n",
      "- SPORTS\n",
      "- CNN HEROES\n",
      "- Paid Partner Content\n",
      "- Privacy Policy\n",
      "- Cookie List\n",
      "\n",
      "Action:\n",
      "```\n",
      "{\n",
      "  \"action\": \"Final Answer\",\n",
      "  \"action_input\": \"The headers on the current page are: CNN values your feedback, World, Video, Around the world, EUROPE, MIDDLE EAST, WORLD IN PHOTOS, AFRICA, AMERICAS, ASIA, Featured, TRAVEL, STYLE, WEATHER, More of the latest stories, Something Extra, ARCHITECTURE AROUND THE WORLD, SPORTS, CNN HEROES, Paid Partner Content, Privacy Policy, Cookie List\"\n",
      "}\n",
      "```\u001b[0m\n",
      "\n",
      "\u001b[1m> Finished chain.\u001b[0m\n",
      "The headers on the current page are: CNN values your feedback, World, Video, Around the world, EUROPE, MIDDLE EAST, WORLD IN PHOTOS, AFRICA, AMERICAS, ASIA, Featured, TRAVEL, STYLE, WEATHER, More of the latest stories, Something Extra, ARCHITECTURE AROUND THE WORLD, SPORTS, CNN HEROES, Paid Partner Content, Privacy Policy, Cookie List\n"
     ]
    }
   ],
   "source": [
    "result = await agent_chain.arun(\"What are the headers on current_page?\")\n",
    "print(result)"
   ]
  },
  {
   "cell_type": "code",
   "execution_count": null,
   "metadata": {},
   "outputs": [],
   "source": []
  }
 ],
 "metadata": {
  "kernelspec": {
   "display_name": "Python 3 (ipykernel)",
   "language": "python",
   "name": "python3"
  },
  "language_info": {
   "codemirror_mode": {
    "name": "ipython",
    "version": 3
   },
   "file_extension": ".py",
   "mimetype": "text/x-python",
   "name": "python",
   "nbconvert_exporter": "python",
   "pygments_lexer": "ipython3",
   "version": "3.11.6"
  }
 },
 "nbformat": 4,
 "nbformat_minor": 4
}
