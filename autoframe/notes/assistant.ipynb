{
 "cells": [
  {
   "cell_type": "code",
   "execution_count": 1,
   "metadata": {},
   "outputs": [],
   "source": [
    "import logging\n",
    "import os\n",
    "import autogen\n",
    "\n",
    "logging.basicConfig(level=logging.WARN)\n",
    "\n",
    "openai_apikey = os.getenv(\"OPENAI_API_KEY\")\n",
    "config_list = [\n",
    "    {\n",
    "        \"model\": \"gpt-3.5-turbo-1106\",\n",
    "        \"api_key\": openai_apikey,\n",
    "    }\n",
    "]\n",
    "llm_config = {\n",
    "    \"cache_seed\": 42,\n",
    "    \"config_list\": config_list,\n",
    "    \"temperature\": 1,\n",
    "}"
   ]
  },
  {
   "cell_type": "markdown",
   "metadata": {},
   "source": [
    "## create an AssistantAgent"
   ]
  },
  {
   "cell_type": "code",
   "execution_count": 2,
   "metadata": {},
   "outputs": [],
   "source": [
    "assistant = autogen.AssistantAgent(\n",
    "    name=\"assistant\",\n",
    "    llm_config=llm_config,\n",
    ")"
   ]
  },
  {
   "cell_type": "markdown",
   "metadata": {},
   "source": [
    "## create a UserProxyAgent instance"
   ]
  },
  {
   "cell_type": "code",
   "execution_count": 3,
   "metadata": {},
   "outputs": [
    {
     "name": "stdout",
     "output_type": "stream",
     "text": [
      "\u001b[33muser_proxy\u001b[0m (to assistant):\n",
      "\n",
      "What date is today? Compare the last-year-to-date gain for META and TESLA. Use pip library.\n",
      "\n",
      "--------------------------------------------------------------------------------\n",
      "\u001b[33massistant\u001b[0m (to user_proxy):\n",
      "\n",
      "```python\n",
      "# filename: stock_comparison.py\n",
      "# First, let's retrieve today's date\n",
      "\n",
      "import datetime\n",
      "\n",
      "today_date = datetime.date.today()\n",
      "print(today_date)\n",
      "```\n",
      "\n",
      "\n",
      "--------------------------------------------------------------------------------\n",
      "\u001b[31m\n",
      ">>>>>>>> EXECUTING CODE BLOCK 0 (inferred language is python)...\u001b[0m\n",
      "\u001b[33muser_proxy\u001b[0m (to assistant):\n",
      "\n",
      "exitcode: 0 (execution succeeded)\n",
      "Code output: \n",
      "2024-01-02\n",
      "\n",
      "\n",
      "--------------------------------------------------------------------------------\n",
      "\u001b[33massistant\u001b[0m (to user_proxy):\n",
      "\n",
      "It looks like today's date is January 2, 2024. Now, let's use the yfinance library to compare the last-year-to-date gain for META and TESLA.\n",
      "\n",
      "```python\n",
      "# filename: stock_comparison.py\n",
      "\n",
      "import yfinance as yf\n",
      "\n",
      "# Define the ticker symbols for META and TESLA\n",
      "meta_symbol = 'META'\n",
      "tesla_symbol = 'TSLA'\n",
      "\n",
      "# Get the data for META and TESLA\n",
      "meta_data = yf.Ticker(meta_symbol)\n",
      "tesla_data = yf.Ticker(tesla_symbol)\n",
      "\n",
      "# Get the historical stock data for the last year\n",
      "meta_history = meta_data.history(period='1y')\n",
      "tesla_history = tesla_data.history(period='1y')\n",
      "\n",
      "# Calculate the last-year-to-date gain for META and TESLA\n",
      "meta_last_year_gain = (meta_history['Close'][-1] - meta_history['Close'][0]) / meta_history['Close'][0] * 100\n",
      "tesla_last_year_gain = (tesla_history['Close'][-1] - tesla_history['Close'][0]) / tesla_history['Close'][0] * 100\n",
      "\n",
      "print(\"Last year-to-date gain for META:\", meta_last_year_gain, \"%\")\n",
      "print(\"Last year-to-date gain for TESLA:\", tesla_last_year_gain, \"%\")\n",
      "```\n",
      "\n",
      "\n",
      "--------------------------------------------------------------------------------\n",
      "\u001b[31m\n",
      ">>>>>>>> EXECUTING CODE BLOCK 0 (inferred language is python)...\u001b[0m\n",
      "\u001b[33muser_proxy\u001b[0m (to assistant):\n",
      "\n",
      "exitcode: 0 (execution succeeded)\n",
      "Code output: \n",
      "Last year-to-date gain for META: 194.13329086468417 %\n",
      "Last year-to-date gain for TESLA: 101.72105464518206 %\n",
      "\n",
      "\n",
      "--------------------------------------------------------------------------------\n",
      "\u001b[33massistant\u001b[0m (to user_proxy):\n",
      "\n",
      "The last-year-to-date gain for META is approximately 194.13%, while the last-year-to-date gain for TESLA is approximately 101.72%.\n",
      "\n",
      "TERMINATE\n",
      "\n",
      "--------------------------------------------------------------------------------\n"
     ]
    }
   ],
   "source": [
    "user_proxy = autogen.UserProxyAgent(\n",
    "    name=\"user_proxy\",\n",
    "    human_input_mode=\"NEVER\",\n",
    "    default_auto_reply=None,\n",
    "    max_consecutive_auto_reply=10,\n",
    "    is_termination_msg=lambda x: x.get(\"content\", \"\").rstrip().endswith(\"TERMINATE\"),\n",
    "    code_execution_config={\n",
    "        \"work_dir\": \"_coding\",\n",
    "        \"use_docker\": False,\n",
    "    },\n",
    ")\n",
    "\n",
    "# the assistant receives a message from the user_proxy, which contains the task description\n",
    "user_proxy.initiate_chat(\n",
    "    assistant,\n",
    "    message=\"\"\"What date is today? Compare the last-year-to-date gain for META and TESLA. Use pip library.\"\"\",\n",
    ")"
   ]
  },
  {
   "cell_type": "code",
   "execution_count": null,
   "metadata": {},
   "outputs": [],
   "source": []
  }
 ],
 "metadata": {
  "kernelspec": {
   "display_name": "Python 3",
   "language": "python",
   "name": "python3"
  },
  "language_info": {
   "codemirror_mode": {
    "name": "ipython",
    "version": 3
   },
   "file_extension": ".py",
   "mimetype": "text/x-python",
   "name": "python",
   "nbconvert_exporter": "python",
   "pygments_lexer": "ipython3",
   "version": "3.11.6"
  }
 },
 "nbformat": 4,
 "nbformat_minor": 2
}
